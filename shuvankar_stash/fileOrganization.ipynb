{
 "cells": [
  {
   "cell_type": "markdown",
   "id": "6fd24ff0-a5cc-4212-b82d-3e693fd79f18",
   "metadata": {},
   "source": [
    "# Folder Names Template"
   ]
  },
  {
   "cell_type": "code",
   "execution_count": 23,
   "id": "56cc3f10-85ed-4984-a6ba-bb1c8519b9f9",
   "metadata": {},
   "outputs": [],
   "source": [
    "sourceFolder = \"Dataset\\\\GAMEEMO\"\n",
    "destinationFolderPY = \"ThesisFolder\\\\GAMEEMO_PY\"\n",
    "destinationFolderMAT = \"ThesisFolder\\\\GAMEEMO_MAT\"\n",
    "destinationSAM = \"ThesisFolder\\\\GAMEEMO_SAM\""
   ]
  },
  {
   "cell_type": "code",
   "execution_count": 43,
   "id": "0de410f2-9af5-4471-a423-9c735f3e9e44",
   "metadata": {},
   "outputs": [],
   "source": [
    "import os\n",
    "from tqdm import tqdm\n",
    "import pandas as pd\n",
    "import shutil"
   ]
  },
  {
   "cell_type": "code",
   "execution_count": 3,
   "id": "ae2dd938-9b9a-419f-aabf-5c6749459b5a",
   "metadata": {},
   "outputs": [
    {
     "data": {
      "text/plain": [
       "['(S01)',\n",
       " '(S02)',\n",
       " '(S03)',\n",
       " '(S04)',\n",
       " '(S05)',\n",
       " '(S06)',\n",
       " '(S07)',\n",
       " '(S08)',\n",
       " '(S09)',\n",
       " '(S10)',\n",
       " '(S11)',\n",
       " '(S12)',\n",
       " '(S13)',\n",
       " '(S14)',\n",
       " '(S15)',\n",
       " '(S16)',\n",
       " '(S17)',\n",
       " '(S18)',\n",
       " '(S19)',\n",
       " '(S20)',\n",
       " '(S21)',\n",
       " '(S22)',\n",
       " '(S23)',\n",
       " '(S24)',\n",
       " '(S25)',\n",
       " '(S26)',\n",
       " '(S27)',\n",
       " '(S28)']"
      ]
     },
     "execution_count": 3,
     "metadata": {},
     "output_type": "execute_result"
    }
   ],
   "source": [
    "subjectFolders = os.listdir(sourceFolder)\n",
    "subjectFolders"
   ]
  },
  {
   "cell_type": "code",
   "execution_count": 4,
   "id": "c7824281-7490-410d-9a29-fa1a1aa154ca",
   "metadata": {
    "scrolled": true
   },
   "outputs": [
    {
     "data": {
      "text/plain": [
       "'Dataset\\\\GAMEEMO\\\\(S02)'"
      ]
     },
     "execution_count": 4,
     "metadata": {},
     "output_type": "execute_result"
    }
   ],
   "source": [
    "subjectData = os.path.join(sourceFolder, subjectFolders[1])\n",
    "subjectData"
   ]
  },
  {
   "cell_type": "code",
   "execution_count": 5,
   "id": "4e496b42-96d3-41ac-bfa2-d52fd6bc715e",
   "metadata": {},
   "outputs": [
    {
     "data": {
      "text/plain": [
       "['Preprocessed EEG Data', 'Raw EEG Data', 'SAM Ratings']"
      ]
     },
     "execution_count": 5,
     "metadata": {},
     "output_type": "execute_result"
    }
   ],
   "source": [
    "os.listdir(subjectData)"
   ]
  },
  {
   "cell_type": "code",
   "execution_count": 6,
   "id": "a24b9b1e-5292-4861-aa7d-715b12a155a8",
   "metadata": {},
   "outputs": [],
   "source": [
    "# dataPY = \"Preprocessed EEG Data/.csv format\"\n",
    "# dataMAT = \"Preprocessed EEG Data/.mat format\"\n",
    "# dataSAM = \"SAM Ratings\""
   ]
  },
  {
   "cell_type": "code",
   "execution_count": 7,
   "id": "5ad0d15d-f071-4152-99aa-370352c1a934",
   "metadata": {},
   "outputs": [
    {
     "data": {
      "text/plain": [
       "'Dataset\\\\GAMEEMO\\\\(S02)\\\\Preprocessed EEG Data'"
      ]
     },
     "execution_count": 7,
     "metadata": {},
     "output_type": "execute_result"
    }
   ],
   "source": [
    "PreprocessedData = os.path.join(subjectData, os.listdir(subjectData)[0])\n",
    "PreprocessedData"
   ]
  },
  {
   "cell_type": "code",
   "execution_count": 8,
   "id": "2934e5b2-8951-4556-a15d-d68a2b02a420",
   "metadata": {},
   "outputs": [
    {
     "data": {
      "text/plain": [
       "'Dataset\\\\GAMEEMO\\\\(S02)\\\\SAM Ratings'"
      ]
     },
     "execution_count": 8,
     "metadata": {},
     "output_type": "execute_result"
    }
   ],
   "source": [
    "SAMRatings = os.path.join(subjectData, os.listdir(subjectData)[2])\n",
    "SAMRatings"
   ]
  },
  {
   "cell_type": "code",
   "execution_count": 9,
   "id": "d1ba8a0e-0bb0-424f-bb91-791a5e49ea7a",
   "metadata": {},
   "outputs": [
    {
     "data": {
      "text/plain": [
       "'Dataset\\\\GAMEEMO\\\\(S02)\\\\Preprocessed EEG Data\\\\.csv format'"
      ]
     },
     "execution_count": 9,
     "metadata": {},
     "output_type": "execute_result"
    }
   ],
   "source": [
    "DataPY = os.path.join(PreprocessedData, os.listdir(PreprocessedData)[0])\n",
    "DataPY"
   ]
  },
  {
   "cell_type": "code",
   "execution_count": 10,
   "id": "f7b83861-fe2b-40f4-807a-c8624df494e1",
   "metadata": {},
   "outputs": [
    {
     "data": {
      "text/plain": [
       "'Dataset\\\\GAMEEMO\\\\(S02)\\\\Preprocessed EEG Data\\\\.mat format'"
      ]
     },
     "execution_count": 10,
     "metadata": {},
     "output_type": "execute_result"
    }
   ],
   "source": [
    "DataMAT = os.path.join(PreprocessedData, os.listdir(PreprocessedData)[1])\n",
    "DataMAT"
   ]
  },
  {
   "cell_type": "markdown",
   "id": "c891d5f3-34dc-4ec3-ab31-4fc666e2ef2e",
   "metadata": {},
   "source": [
    "# File Sorting"
   ]
  },
  {
   "cell_type": "code",
   "execution_count": 39,
   "id": "7168fd1b-4dc4-4850-8339-8836b4b42f12",
   "metadata": {},
   "outputs": [],
   "source": [
    "def move_file(source_file_path, destination_dir):\n",
    "    if not os.path.isfile(source_file_path):\n",
    "        print(f\"Source file '{source_file_path}' does not exist.\")\n",
    "        return\n",
    "\n",
    "    if not os.path.exists(destination_dir):\n",
    "        os.makedirs(destination_dir)\n",
    "\n",
    "    try:\n",
    "        shutil.copy(source_file_path, destination_dir)\n",
    "        # print(f\"File moved to {destination_dir}\")\n",
    "    except Exception as e:\n",
    "        print(f\"Error moving file: {e}\")\n"
   ]
  },
  {
   "cell_type": "code",
   "execution_count": 19,
   "id": "6b586f49-daf1-4b79-b742-49ac118e9cc7",
   "metadata": {},
   "outputs": [
    {
     "name": "stdout",
     "output_type": "stream",
     "text": [
      "(S01)\n",
      "Dataset\\GAMEEMO\\(S01)\\Preprocessed EEG Data\\.csv format\n"
     ]
    },
    {
     "name": "stderr",
     "output_type": "stream",
     "text": [
      "100%|███████████████████████████████████████████████████████████████████████████████████| 4/4 [00:00<00:00, 306.81it/s]\n"
     ]
    },
    {
     "name": "stdout",
     "output_type": "stream",
     "text": [
      "(S02)\n",
      "Dataset\\GAMEEMO\\(S02)\\Preprocessed EEG Data\\.csv format\n"
     ]
    },
    {
     "name": "stderr",
     "output_type": "stream",
     "text": [
      "100%|███████████████████████████████████████████████████████████████████████████████████| 4/4 [00:00<00:00, 186.31it/s]\n"
     ]
    },
    {
     "name": "stdout",
     "output_type": "stream",
     "text": [
      "(S03)\n",
      "Dataset\\GAMEEMO\\(S03)\\Preprocessed EEG Data\\.csv format\n"
     ]
    },
    {
     "name": "stderr",
     "output_type": "stream",
     "text": [
      "100%|███████████████████████████████████████████████████████████████████████████████████| 4/4 [00:00<00:00, 334.76it/s]\n"
     ]
    },
    {
     "name": "stdout",
     "output_type": "stream",
     "text": [
      "(S04)\n",
      "Dataset\\GAMEEMO\\(S04)\\Preprocessed EEG Data\\.csv format\n"
     ]
    },
    {
     "name": "stderr",
     "output_type": "stream",
     "text": [
      "100%|███████████████████████████████████████████████████████████████████████████████████| 4/4 [00:00<00:00, 308.51it/s]\n"
     ]
    },
    {
     "name": "stdout",
     "output_type": "stream",
     "text": [
      "(S05)\n",
      "Dataset\\GAMEEMO\\(S05)\\Preprocessed EEG Data\\.csv format\n"
     ]
    },
    {
     "name": "stderr",
     "output_type": "stream",
     "text": [
      "100%|███████████████████████████████████████████████████████████████████████████████████| 4/4 [00:00<00:00, 334.21it/s]\n"
     ]
    },
    {
     "name": "stdout",
     "output_type": "stream",
     "text": [
      "(S06)\n",
      "Dataset\\GAMEEMO\\(S06)\\Preprocessed EEG Data\\.csv format\n"
     ]
    },
    {
     "name": "stderr",
     "output_type": "stream",
     "text": [
      "100%|███████████████████████████████████████████████████████████████████████████████████| 4/4 [00:00<00:00, 187.36it/s]\n"
     ]
    },
    {
     "name": "stdout",
     "output_type": "stream",
     "text": [
      "(S07)\n",
      "Dataset\\GAMEEMO\\(S07)\\Preprocessed EEG Data\\.csv format\n"
     ]
    },
    {
     "name": "stderr",
     "output_type": "stream",
     "text": [
      "100%|███████████████████████████████████████████████████████████████████████████████████| 4/4 [00:00<00:00, 333.48it/s]\n"
     ]
    },
    {
     "name": "stdout",
     "output_type": "stream",
     "text": [
      "(S08)\n",
      "Dataset\\GAMEEMO\\(S08)\\Preprocessed EEG Data\\.csv format\n"
     ]
    },
    {
     "name": "stderr",
     "output_type": "stream",
     "text": [
      "100%|███████████████████████████████████████████████████████████████████████████████████| 4/4 [00:00<00:00, 307.34it/s]\n"
     ]
    },
    {
     "name": "stdout",
     "output_type": "stream",
     "text": [
      "(S09)\n",
      "Dataset\\GAMEEMO\\(S09)\\Preprocessed EEG Data\\.csv format\n"
     ]
    },
    {
     "name": "stderr",
     "output_type": "stream",
     "text": [
      "100%|███████████████████████████████████████████████████████████████████████████████████| 4/4 [00:00<00:00, 334.33it/s]\n"
     ]
    },
    {
     "name": "stdout",
     "output_type": "stream",
     "text": [
      "(S10)\n",
      "Dataset\\GAMEEMO\\(S10)\\Preprocessed EEG Data\\.csv format\n"
     ]
    },
    {
     "name": "stderr",
     "output_type": "stream",
     "text": [
      "100%|███████████████████████████████████████████████████████████████████████████████████| 4/4 [00:00<00:00, 143.09it/s]\n"
     ]
    },
    {
     "name": "stdout",
     "output_type": "stream",
     "text": [
      "(S11)\n",
      "Dataset\\GAMEEMO\\(S11)\\Preprocessed EEG Data\\.csv format\n"
     ]
    },
    {
     "name": "stderr",
     "output_type": "stream",
     "text": [
      "100%|███████████████████████████████████████████████████████████████████████████████████| 4/4 [00:00<00:00, 286.46it/s]\n"
     ]
    },
    {
     "name": "stdout",
     "output_type": "stream",
     "text": [
      "(S12)\n",
      "Dataset\\GAMEEMO\\(S12)\\Preprocessed EEG Data\\.csv format\n"
     ]
    },
    {
     "name": "stderr",
     "output_type": "stream",
     "text": [
      "100%|███████████████████████████████████████████████████████████████████████████████████| 4/4 [00:00<00:00, 334.42it/s]\n"
     ]
    },
    {
     "name": "stdout",
     "output_type": "stream",
     "text": [
      "(S13)\n",
      "Dataset\\GAMEEMO\\(S13)\\Preprocessed EEG Data\\.csv format\n"
     ]
    },
    {
     "name": "stderr",
     "output_type": "stream",
     "text": [
      "100%|███████████████████████████████████████████████████████████████████████████████████| 4/4 [00:00<00:00, 333.35it/s]"
     ]
    },
    {
     "name": "stdout",
     "output_type": "stream",
     "text": [
      "(S14)\n"
     ]
    },
    {
     "name": "stderr",
     "output_type": "stream",
     "text": [
      "\n"
     ]
    },
    {
     "name": "stdout",
     "output_type": "stream",
     "text": [
      "Dataset\\GAMEEMO\\(S14)\\Preprocessed EEG Data\\.csv format\n"
     ]
    },
    {
     "name": "stderr",
     "output_type": "stream",
     "text": [
      "100%|███████████████████████████████████████████████████████████████████████████████████| 4/4 [00:00<00:00, 308.29it/s]"
     ]
    },
    {
     "name": "stdout",
     "output_type": "stream",
     "text": [
      "(S15)\n"
     ]
    },
    {
     "name": "stderr",
     "output_type": "stream",
     "text": [
      "\n"
     ]
    },
    {
     "name": "stdout",
     "output_type": "stream",
     "text": [
      "Dataset\\GAMEEMO\\(S15)\\Preprocessed EEG Data\\.csv format\n"
     ]
    },
    {
     "name": "stderr",
     "output_type": "stream",
     "text": [
      "100%|███████████████████████████████████████████████████████████████████████████████████| 4/4 [00:00<00:00, 308.57it/s]\n"
     ]
    },
    {
     "name": "stdout",
     "output_type": "stream",
     "text": [
      "(S16)\n",
      "Dataset\\GAMEEMO\\(S16)\\Preprocessed EEG Data\\.csv format\n"
     ]
    },
    {
     "name": "stderr",
     "output_type": "stream",
     "text": [
      "100%|███████████████████████████████████████████████████████████████████████████████████| 4/4 [00:00<00:00, 326.36it/s]\n"
     ]
    },
    {
     "name": "stdout",
     "output_type": "stream",
     "text": [
      "(S17)\n",
      "Dataset\\GAMEEMO\\(S17)\\Preprocessed EEG Data\\.csv format\n"
     ]
    },
    {
     "name": "stderr",
     "output_type": "stream",
     "text": [
      "100%|███████████████████████████████████████████████████████████████████████████████████| 4/4 [00:00<00:00, 334.17it/s]\n"
     ]
    },
    {
     "name": "stdout",
     "output_type": "stream",
     "text": [
      "(S18)\n",
      "Dataset\\GAMEEMO\\(S18)\\Preprocessed EEG Data\\.csv format\n"
     ]
    },
    {
     "name": "stderr",
     "output_type": "stream",
     "text": [
      "100%|███████████████████████████████████████████████████████████████████████████████████| 4/4 [00:00<00:00, 324.91it/s]\n"
     ]
    },
    {
     "name": "stdout",
     "output_type": "stream",
     "text": [
      "(S19)\n",
      "Dataset\\GAMEEMO\\(S19)\\Preprocessed EEG Data\\.csv format\n"
     ]
    },
    {
     "name": "stderr",
     "output_type": "stream",
     "text": [
      "100%|███████████████████████████████████████████████████████████████████████████████████| 4/4 [00:00<00:00, 333.30it/s]\n"
     ]
    },
    {
     "name": "stdout",
     "output_type": "stream",
     "text": [
      "(S20)\n",
      "Dataset\\GAMEEMO\\(S20)\\Preprocessed EEG Data\\.csv format\n"
     ]
    },
    {
     "name": "stderr",
     "output_type": "stream",
     "text": [
      "100%|███████████████████████████████████████████████████████████████████████████████████| 4/4 [00:00<00:00, 293.33it/s]\n"
     ]
    },
    {
     "name": "stdout",
     "output_type": "stream",
     "text": [
      "(S21)\n",
      "Dataset\\GAMEEMO\\(S21)\\Preprocessed EEG Data\\.csv format\n"
     ]
    },
    {
     "name": "stderr",
     "output_type": "stream",
     "text": [
      "100%|███████████████████████████████████████████████████████████████████████████████████| 4/4 [00:00<00:00, 364.70it/s]\n"
     ]
    },
    {
     "name": "stdout",
     "output_type": "stream",
     "text": [
      "(S22)\n",
      "Dataset\\GAMEEMO\\(S22)\\Preprocessed EEG Data\\.csv format\n"
     ]
    },
    {
     "name": "stderr",
     "output_type": "stream",
     "text": [
      "100%|███████████████████████████████████████████████████████████████████████████████████| 4/4 [00:00<00:00, 308.84it/s]\n"
     ]
    },
    {
     "name": "stdout",
     "output_type": "stream",
     "text": [
      "(S23)\n",
      "Dataset\\GAMEEMO\\(S23)\\Preprocessed EEG Data\\.csv format\n"
     ]
    },
    {
     "name": "stderr",
     "output_type": "stream",
     "text": [
      "100%|███████████████████████████████████████████████████████████████████████████████████| 4/4 [00:00<00:00, 208.39it/s]\n"
     ]
    },
    {
     "name": "stdout",
     "output_type": "stream",
     "text": [
      "(S24)\n",
      "Dataset\\GAMEEMO\\(S24)\\Preprocessed EEG Data\\.csv format\n"
     ]
    },
    {
     "name": "stderr",
     "output_type": "stream",
     "text": [
      "100%|███████████████████████████████████████████████████████████████████████████████████| 4/4 [00:00<00:00, 305.47it/s]\n"
     ]
    },
    {
     "name": "stdout",
     "output_type": "stream",
     "text": [
      "(S25)\n",
      "Dataset\\GAMEEMO\\(S25)\\Preprocessed EEG Data\\.csv format\n"
     ]
    },
    {
     "name": "stderr",
     "output_type": "stream",
     "text": [
      "100%|███████████████████████████████████████████████████████████████████████████████████| 4/4 [00:00<00:00, 334.50it/s]\n"
     ]
    },
    {
     "name": "stdout",
     "output_type": "stream",
     "text": [
      "(S26)\n",
      "Dataset\\GAMEEMO\\(S26)\\Preprocessed EEG Data\\.csv format\n"
     ]
    },
    {
     "name": "stderr",
     "output_type": "stream",
     "text": [
      "100%|███████████████████████████████████████████████████████████████████████████████████| 4/4 [00:00<00:00, 333.48it/s]\n"
     ]
    },
    {
     "name": "stdout",
     "output_type": "stream",
     "text": [
      "(S27)\n",
      "Dataset\\GAMEEMO\\(S27)\\Preprocessed EEG Data\\.csv format\n"
     ]
    },
    {
     "name": "stderr",
     "output_type": "stream",
     "text": [
      "100%|███████████████████████████████████████████████████████████████████████████████████| 4/4 [00:00<00:00, 307.88it/s]\n"
     ]
    },
    {
     "name": "stdout",
     "output_type": "stream",
     "text": [
      "(S28)\n",
      "Dataset\\GAMEEMO\\(S28)\\Preprocessed EEG Data\\.csv format\n"
     ]
    },
    {
     "name": "stderr",
     "output_type": "stream",
     "text": [
      "100%|███████████████████████████████████████████████████████████████████████████████████| 4/4 [00:00<00:00, 353.03it/s]\n"
     ]
    }
   ],
   "source": [
    "for subject in subjectFolders:\n",
    "    print(subject)\n",
    "    subjectData = os.path.join(sourceFolder, subject)\n",
    "    PreprocessedData = os.path.join(subjectData, os.listdir(subjectData)[0])\n",
    "    DataPY = os.path.join(PreprocessedData, os.listdir(PreprocessedData)[0])\n",
    "    print(DataPY)\n",
    "    for files in tqdm(os.listdir(DataPY)):\n",
    "        sourceFile = os.path.join(DataPY, files)\n",
    "        destinationPath = destinationFolderPY\n",
    "        move_file(sourceFile, destinationPath)"
   ]
  },
  {
   "cell_type": "code",
   "execution_count": 22,
   "id": "6bce9c44-9d29-4eb3-9ce9-ced1f9eb566d",
   "metadata": {},
   "outputs": [
    {
     "name": "stdout",
     "output_type": "stream",
     "text": [
      "(S01)\n",
      "Dataset\\GAMEEMO\\(S01)\\Preprocessed EEG Data\\.mat format\n"
     ]
    },
    {
     "name": "stderr",
     "output_type": "stream",
     "text": [
      "  0%|                                                                                            | 0/4 [00:00<?, ?it/s]"
     ]
    },
    {
     "name": "stdout",
     "output_type": "stream",
     "text": [
      "S01G1AllChannels.mat\n",
      "S01G2AllChannels.mat\n"
     ]
    },
    {
     "name": "stderr",
     "output_type": "stream",
     "text": [
      "100%|████████████████████████████████████████████████████████████████████████████████████| 4/4 [00:00<00:00, 15.74it/s]\n"
     ]
    },
    {
     "name": "stdout",
     "output_type": "stream",
     "text": [
      "S01G3AllChannels.mat\n",
      "S01G4AllChannels.mat\n",
      "(S02)\n",
      "Dataset\\GAMEEMO\\(S02)\\Preprocessed EEG Data\\.mat format\n"
     ]
    },
    {
     "name": "stderr",
     "output_type": "stream",
     "text": [
      "100%|███████████████████████████████████████████████████████████████████████████████████| 4/4 [00:00<00:00, 123.27it/s]\n"
     ]
    },
    {
     "name": "stdout",
     "output_type": "stream",
     "text": [
      "S02G1AllChannels.mat\n",
      "S02G2AllChannels.mat\n",
      "S02G3AllChannels.mat\n",
      "S02G4AllChannels.mat\n",
      "(S03)\n",
      "Dataset\\GAMEEMO\\(S03)\\Preprocessed EEG Data\\.mat format\n"
     ]
    },
    {
     "name": "stderr",
     "output_type": "stream",
     "text": [
      "100%|███████████████████████████████████████████████████████████████████████████████████| 4/4 [00:00<00:00, 267.44it/s]\n"
     ]
    },
    {
     "name": "stdout",
     "output_type": "stream",
     "text": [
      "S03G1AllChannels.mat\n",
      "S03G2AllChannels.mat\n",
      "S03G3AllChannels.mat\n",
      "S03G4AllChannels.mat\n",
      "(S04)\n",
      "Dataset\\GAMEEMO\\(S04)\\Preprocessed EEG Data\\.mat format\n"
     ]
    },
    {
     "name": "stderr",
     "output_type": "stream",
     "text": [
      "100%|███████████████████████████████████████████████████████████████████████████████████| 4/4 [00:00<00:00, 286.53it/s]\n"
     ]
    },
    {
     "name": "stdout",
     "output_type": "stream",
     "text": [
      "S04G1AllChannels.mat\n",
      "S04G2AllChannels.mat\n",
      "S04G3AllChannels.mat\n",
      "S04G4AllChannels.mat\n",
      "(S05)\n",
      "Dataset\\GAMEEMO\\(S05)\\Preprocessed EEG Data\\.mat format\n"
     ]
    },
    {
     "name": "stderr",
     "output_type": "stream",
     "text": [
      "100%|███████████████████████████████████████████████████████████████████████████████████| 4/4 [00:00<00:00, 307.97it/s]\n"
     ]
    },
    {
     "name": "stdout",
     "output_type": "stream",
     "text": [
      "S05G1AllChannels.mat\n",
      "S05G2AllChannels.mat\n",
      "S05G3AllChannels.mat\n",
      "S05G4AllChannels.mat\n",
      "(S06)\n",
      "Dataset\\GAMEEMO\\(S06)\\Preprocessed EEG Data\\.mat format\n"
     ]
    },
    {
     "name": "stderr",
     "output_type": "stream",
     "text": [
      "100%|███████████████████████████████████████████████████████████████████████████████████| 4/4 [00:00<00:00, 308.56it/s]\n"
     ]
    },
    {
     "name": "stdout",
     "output_type": "stream",
     "text": [
      "S06G1AllChannels.mat\n",
      "S06G2AllChannels.mat\n",
      "S06G3AllChannels.mat\n",
      "S06G4AllChannels.mat\n",
      "(S07)\n",
      "Dataset\\GAMEEMO\\(S07)\\Preprocessed EEG Data\\.mat format\n"
     ]
    },
    {
     "name": "stderr",
     "output_type": "stream",
     "text": [
      "100%|███████████████████████████████████████████████████████████████████████████████████| 4/4 [00:00<00:00, 334.25it/s]\n"
     ]
    },
    {
     "name": "stdout",
     "output_type": "stream",
     "text": [
      "S07G1AllChannels.mat\n",
      "S07G2AllChannels.mat\n",
      "S07G3AllChannels.mat\n",
      "S07G4AllChannels.mat\n",
      "(S08)\n",
      "Dataset\\GAMEEMO\\(S08)\\Preprocessed EEG Data\\.mat format\n"
     ]
    },
    {
     "name": "stderr",
     "output_type": "stream",
     "text": [
      "100%|███████████████████████████████████████████████████████████████████████████████████| 4/4 [00:00<00:00, 296.86it/s]\n"
     ]
    },
    {
     "name": "stdout",
     "output_type": "stream",
     "text": [
      "S08G1AllChannels.mat\n",
      "S08G2AllChannels.mat\n",
      "S08G3AllChannels.mat\n",
      "S08G4AllChannels.mat\n",
      "(S09)\n",
      "Dataset\\GAMEEMO\\(S09)\\Preprocessed EEG Data\\.mat format\n"
     ]
    },
    {
     "name": "stderr",
     "output_type": "stream",
     "text": [
      "100%|███████████████████████████████████████████████████████████████████████████████████| 4/4 [00:00<00:00, 308.63it/s]"
     ]
    },
    {
     "name": "stdout",
     "output_type": "stream",
     "text": [
      "S09G1AllChannels.mat\n",
      "S09G2AllChannels.mat\n",
      "S09G3AllChannels.mat\n",
      "S09G4AllChannels.mat\n"
     ]
    },
    {
     "name": "stderr",
     "output_type": "stream",
     "text": [
      "\n"
     ]
    },
    {
     "name": "stdout",
     "output_type": "stream",
     "text": [
      "(S10)\n",
      "Dataset\\GAMEEMO\\(S10)\\Preprocessed EEG Data\\.mat format\n"
     ]
    },
    {
     "name": "stderr",
     "output_type": "stream",
     "text": [
      "100%|███████████████████████████████████████████████████████████████████████████████████| 4/4 [00:00<00:00, 308.53it/s]\n"
     ]
    },
    {
     "name": "stdout",
     "output_type": "stream",
     "text": [
      "S10G1AllChannels.mat\n",
      "S10G2AllChannels.mat\n",
      "S10G3AllChannels.mat\n",
      "S10G4AllChannels.mat\n",
      "(S11)\n",
      "Dataset\\GAMEEMO\\(S11)\\Preprocessed EEG Data\\.mat format\n"
     ]
    },
    {
     "name": "stderr",
     "output_type": "stream",
     "text": [
      "100%|███████████████████████████████████████████████████████████████████████████████████| 4/4 [00:00<00:00, 333.68it/s]"
     ]
    },
    {
     "name": "stdout",
     "output_type": "stream",
     "text": [
      "S11G1AllChannels.mat\n",
      "S11G2AllChannels.mat\n",
      "S11G3AllChannels.mat\n",
      "S11G4AllChannels.mat\n"
     ]
    },
    {
     "name": "stderr",
     "output_type": "stream",
     "text": [
      "\n"
     ]
    },
    {
     "name": "stdout",
     "output_type": "stream",
     "text": [
      "(S12)\n",
      "Dataset\\GAMEEMO\\(S12)\\Preprocessed EEG Data\\.mat format\n"
     ]
    },
    {
     "name": "stderr",
     "output_type": "stream",
     "text": [
      "100%|███████████████████████████████████████████████████████████████████████████████████| 4/4 [00:00<00:00, 302.72it/s]\n"
     ]
    },
    {
     "name": "stdout",
     "output_type": "stream",
     "text": [
      "S12G1AllChannels.mat\n",
      "S12G2AllChannels.mat\n",
      "S12G3AllChannels.mat\n",
      "S12G4AllChannels.mat\n",
      "(S13)\n",
      "Dataset\\GAMEEMO\\(S13)\\Preprocessed EEG Data\\.mat format\n"
     ]
    },
    {
     "name": "stderr",
     "output_type": "stream",
     "text": [
      "100%|███████████████████████████████████████████████████████████████████████████████████| 4/4 [00:00<00:00, 250.65it/s]"
     ]
    },
    {
     "name": "stdout",
     "output_type": "stream",
     "text": [
      "S13G1AllChannels.mat\n",
      "S13G2AllChannels.mat\n",
      "S13G3AllChannels.mat\n",
      "S13G4AllChannels.mat\n"
     ]
    },
    {
     "name": "stderr",
     "output_type": "stream",
     "text": [
      "\n"
     ]
    },
    {
     "name": "stdout",
     "output_type": "stream",
     "text": [
      "(S14)\n",
      "Dataset\\GAMEEMO\\(S14)\\Preprocessed EEG Data\\.mat format\n"
     ]
    },
    {
     "name": "stderr",
     "output_type": "stream",
     "text": [
      "100%|███████████████████████████████████████████████████████████████████████████████████| 4/4 [00:00<00:00, 308.55it/s]"
     ]
    },
    {
     "name": "stdout",
     "output_type": "stream",
     "text": [
      "S14G1AllChannels.mat\n",
      "S14G2AllChannels.mat\n",
      "S14G3AllChannels.mat\n",
      "S14G4AllChannels.mat\n",
      "(S15)\n"
     ]
    },
    {
     "name": "stderr",
     "output_type": "stream",
     "text": [
      "\n"
     ]
    },
    {
     "name": "stdout",
     "output_type": "stream",
     "text": [
      "Dataset\\GAMEEMO\\(S15)\\Preprocessed EEG Data\\.mat format\n"
     ]
    },
    {
     "name": "stderr",
     "output_type": "stream",
     "text": [
      "100%|███████████████████████████████████████████████████████████████████████████████████| 4/4 [00:00<00:00, 364.65it/s]\n"
     ]
    },
    {
     "name": "stdout",
     "output_type": "stream",
     "text": [
      "S15G1AllChannels.mat\n",
      "S15G2AllChannels.mat\n",
      "S15G3AllChannels.mat\n",
      "S15G4AllChannels.mat\n",
      "(S16)\n",
      "Dataset\\GAMEEMO\\(S16)\\Preprocessed EEG Data\\.mat format\n"
     ]
    },
    {
     "name": "stderr",
     "output_type": "stream",
     "text": [
      "100%|███████████████████████████████████████████████████████████████████████████████████| 4/4 [00:00<00:00, 348.37it/s]\n"
     ]
    },
    {
     "name": "stdout",
     "output_type": "stream",
     "text": [
      "S16G1AllChannels.mat\n",
      "S16G2AllChannels.mat\n",
      "S16G3AllChannels.mat\n",
      "S16G4AllChannels.mat\n",
      "(S17)\n",
      "Dataset\\GAMEEMO\\(S17)\\Preprocessed EEG Data\\.mat format\n"
     ]
    },
    {
     "name": "stderr",
     "output_type": "stream",
     "text": [
      "  0%|                                                                                            | 0/4 [00:00<?, ?it/s]"
     ]
    },
    {
     "name": "stdout",
     "output_type": "stream",
     "text": [
      "S17G1AllChannels.mat\n",
      "S17G2AllChannels.mat\n",
      "S17G3AllChannels.mat\n",
      "S17G4AllChannels.mat\n"
     ]
    },
    {
     "name": "stderr",
     "output_type": "stream",
     "text": [
      "100%|████████████████████████████████████████████████████████████████████████████████████| 4/4 [00:00<00:00, 76.55it/s]\n"
     ]
    },
    {
     "name": "stdout",
     "output_type": "stream",
     "text": [
      "(S18)\n",
      "Dataset\\GAMEEMO\\(S18)\\Preprocessed EEG Data\\.mat format\n"
     ]
    },
    {
     "name": "stderr",
     "output_type": "stream",
     "text": [
      "100%|███████████████████████████████████████████████████████████████████████████████████| 4/4 [00:00<00:00, 307.88it/s]"
     ]
    },
    {
     "name": "stdout",
     "output_type": "stream",
     "text": [
      "S18G1AllChannels.mat\n",
      "S18G2AllChannels.mat\n",
      "S18G3AllChannels.mat\n",
      "S18G4AllChannels.mat\n"
     ]
    },
    {
     "name": "stderr",
     "output_type": "stream",
     "text": [
      "\n"
     ]
    },
    {
     "name": "stdout",
     "output_type": "stream",
     "text": [
      "(S19)\n",
      "Dataset\\GAMEEMO\\(S19)\\Preprocessed EEG Data\\.mat format\n"
     ]
    },
    {
     "name": "stderr",
     "output_type": "stream",
     "text": [
      "  0%|                                                                                            | 0/4 [00:00<?, ?it/s]"
     ]
    },
    {
     "name": "stdout",
     "output_type": "stream",
     "text": [
      "S19G1AllChannels.mat"
     ]
    },
    {
     "name": "stderr",
     "output_type": "stream",
     "text": [
      "100%|███████████████████████████████████████████████████████████████████████████████████| 4/4 [00:00<00:00, 308.83it/s]\n"
     ]
    },
    {
     "name": "stdout",
     "output_type": "stream",
     "text": [
      "\n",
      "S19G2AllChannels.mat\n",
      "S19G3AllChannels.mat\n",
      "S19G4AllChannels.mat\n",
      "(S20)\n",
      "Dataset\\GAMEEMO\\(S20)\\Preprocessed EEG Data\\.mat format\n"
     ]
    },
    {
     "name": "stderr",
     "output_type": "stream",
     "text": [
      "  0%|                                                                                            | 0/4 [00:00<?, ?it/s]"
     ]
    },
    {
     "name": "stdout",
     "output_type": "stream",
     "text": [
      "S20G1AllChannels.mat\n"
     ]
    },
    {
     "name": "stderr",
     "output_type": "stream",
     "text": [
      "100%|███████████████████████████████████████████████████████████████████████████████████| 4/4 [00:00<00:00, 285.95it/s]\n"
     ]
    },
    {
     "name": "stdout",
     "output_type": "stream",
     "text": [
      "S20G2AllChannels.mat\n",
      "S20G3AllChannels.mat\n",
      "S20G4AllChannels.mat\n",
      "(S21)\n",
      "Dataset\\GAMEEMO\\(S21)\\Preprocessed EEG Data\\.mat format\n"
     ]
    },
    {
     "name": "stderr",
     "output_type": "stream",
     "text": [
      "100%|███████████████████████████████████████████████████████████████████████████████████| 4/4 [00:00<00:00, 308.55it/s]"
     ]
    },
    {
     "name": "stdout",
     "output_type": "stream",
     "text": [
      "S21G1AllChannels.mat\n",
      "S21G2AllChannels.mat\n",
      "S21G3AllChannels.mat\n",
      "S21G4AllChannels.mat\n"
     ]
    },
    {
     "name": "stderr",
     "output_type": "stream",
     "text": [
      "\n"
     ]
    },
    {
     "name": "stdout",
     "output_type": "stream",
     "text": [
      "(S22)\n",
      "Dataset\\GAMEEMO\\(S22)\\Preprocessed EEG Data\\.mat format\n"
     ]
    },
    {
     "name": "stderr",
     "output_type": "stream",
     "text": [
      "100%|███████████████████████████████████████████████████████████████████████████████████| 4/4 [00:00<00:00, 308.54it/s]"
     ]
    },
    {
     "name": "stdout",
     "output_type": "stream",
     "text": [
      "S22G1AllChannels.mat\n",
      "S22G2AllChannels.mat\n",
      "S22G3AllChannels.mat\n",
      "S22G4AllChannels.mat\n"
     ]
    },
    {
     "name": "stderr",
     "output_type": "stream",
     "text": [
      "\n"
     ]
    },
    {
     "name": "stdout",
     "output_type": "stream",
     "text": [
      "(S23)\n",
      "Dataset\\GAMEEMO\\(S23)\\Preprocessed EEG Data\\.mat format\n"
     ]
    },
    {
     "name": "stderr",
     "output_type": "stream",
     "text": [
      "100%|███████████████████████████████████████████████████████████████████████████████████| 4/4 [00:00<00:00, 320.60it/s]\n"
     ]
    },
    {
     "name": "stdout",
     "output_type": "stream",
     "text": [
      "S23G1AllChannels.mat\n",
      "S23G2AllChannels.mat\n",
      "S23G3AllChannels.mat\n",
      "S23G4AllChannels.mat\n",
      "(S24)\n",
      "Dataset\\GAMEEMO\\(S24)\\Preprocessed EEG Data\\.mat format\n"
     ]
    },
    {
     "name": "stderr",
     "output_type": "stream",
     "text": [
      "100%|███████████████████████████████████████████████████████████████████████████████████| 4/4 [00:00<00:00, 308.54it/s]\n"
     ]
    },
    {
     "name": "stdout",
     "output_type": "stream",
     "text": [
      "S24G1AllChannels.mat\n",
      "S24G2AllChannels.mat\n",
      "S24G3AllChannels.mat\n",
      "S24G4AllChannels.mat\n",
      "(S25)\n",
      "Dataset\\GAMEEMO\\(S25)\\Preprocessed EEG Data\\.mat format\n"
     ]
    },
    {
     "name": "stderr",
     "output_type": "stream",
     "text": [
      "100%|███████████████████████████████████████████████████████████████████████████████████| 4/4 [00:00<00:00, 334.17it/s]"
     ]
    },
    {
     "name": "stdout",
     "output_type": "stream",
     "text": [
      "S25G1AllChannels.mat\n",
      "S25G2AllChannels.mat\n",
      "S25G3AllChannels.mat\n",
      "S25G4AllChannels.mat\n",
      "(S26)\n"
     ]
    },
    {
     "name": "stderr",
     "output_type": "stream",
     "text": [
      "\n"
     ]
    },
    {
     "name": "stdout",
     "output_type": "stream",
     "text": [
      "Dataset\\GAMEEMO\\(S26)\\Preprocessed EEG Data\\.mat format\n"
     ]
    },
    {
     "name": "stderr",
     "output_type": "stream",
     "text": [
      "100%|███████████████████████████████████████████████████████████████████████████████████| 4/4 [00:00<00:00, 308.67it/s]\n"
     ]
    },
    {
     "name": "stdout",
     "output_type": "stream",
     "text": [
      "S26G1AllChannels.mat\n",
      "S26G2AllChannels.mat\n",
      "S26G3AllChannels.mat\n",
      "S26G4AllChannels.mat\n",
      "(S27)\n",
      "Dataset\\GAMEEMO\\(S27)\\Preprocessed EEG Data\\.mat format\n"
     ]
    },
    {
     "name": "stderr",
     "output_type": "stream",
     "text": [
      "100%|███████████████████████████████████████████████████████████████████████████████████| 4/4 [00:00<00:00, 333.55it/s]\n"
     ]
    },
    {
     "name": "stdout",
     "output_type": "stream",
     "text": [
      "S27G1AllChannels.mat\n",
      "S27G2AllChannels.mat\n",
      "S27G3AllChannels.mat\n",
      "S27G4AllChannels.mat\n",
      "(S28)\n",
      "Dataset\\GAMEEMO\\(S28)\\Preprocessed EEG Data\\.mat format\n"
     ]
    },
    {
     "name": "stderr",
     "output_type": "stream",
     "text": [
      "100%|███████████████████████████████████████████████████████████████████████████████████| 4/4 [00:00<00:00, 334.29it/s]"
     ]
    },
    {
     "name": "stdout",
     "output_type": "stream",
     "text": [
      "S28G1AllChannels.mat\n",
      "S28G2AllChannels.mat\n",
      "S28G3AllChannels.mat\n",
      "S28G4AllChannels.mat\n"
     ]
    },
    {
     "name": "stderr",
     "output_type": "stream",
     "text": [
      "\n"
     ]
    }
   ],
   "source": [
    "for subject in subjectFolders:\n",
    "    print(subject)\n",
    "    subjectData = os.path.join(sourceFolder, subject)\n",
    "    PreprocessedData = os.path.join(subjectData, os.listdir(subjectData)[0])\n",
    "    DataMAT = os.path.join(PreprocessedData, os.listdir(PreprocessedData)[1])\n",
    "    print(DataMAT)\n",
    "    for files in tqdm(os.listdir(DataMAT)):\n",
    "        print(files)\n",
    "        sourceFile = os.path.join(DataMAT, files)\n",
    "        destinationPath = destinationFolderMAT\n",
    "        move_file(sourceFile, destinationPath)"
   ]
  },
  {
   "cell_type": "code",
   "execution_count": 46,
   "id": "cf9c3d80-c0c4-4ea1-be42-fa434f5680fc",
   "metadata": {},
   "outputs": [],
   "source": [
    "def move_file_2(source_file_path, subject, destination_dir):\n",
    "    if not os.path.isfile(source_file_path):\n",
    "        print(f\"Source file '{source_file_path}' does not exist.\")\n",
    "        return\n",
    "\n",
    "    if not os.path.exists(destination_dir):\n",
    "        os.makedirs(destination_dir)\n",
    "\n",
    "    baseFile = os.path.basename(source_file_path)\n",
    "    fileName = \"SAM\"+subject+baseFile\n",
    "    destinationPath = os.path.join(destination_dir, fileName)\n",
    "\n",
    "    try:\n",
    "        shutil.copy(source_file_path, destinationPath)\n",
    "        # print(f\"File moved to {destination_dir}\")\n",
    "    except Exception as e:\n",
    "        print(f\"Error moving file: {e}\")\n"
   ]
  },
  {
   "cell_type": "code",
   "execution_count": 47,
   "id": "56aeea10-3dda-468e-81d1-9a3f2797c949",
   "metadata": {},
   "outputs": [
    {
     "name": "stdout",
     "output_type": "stream",
     "text": [
      "(S01)\n",
      "Dataset\\GAMEEMO\\(S01)\\SAM Ratings\n"
     ]
    },
    {
     "name": "stderr",
     "output_type": "stream",
     "text": [
      "100%|██████████████████████████████████████████████████████████████████████████████████| 4/4 [00:00<00:00, 1002.58it/s]\n"
     ]
    },
    {
     "name": "stdout",
     "output_type": "stream",
     "text": [
      "Dataset\\GAMEEMO\\(S01)\\SAM Ratings\\G1.pdf\n",
      "ThesisFolder\\GAMEEMO_SAM\n",
      "Dataset\\GAMEEMO\\(S01)\\SAM Ratings\\G2.pdf\n",
      "ThesisFolder\\GAMEEMO_SAM\n",
      "Dataset\\GAMEEMO\\(S01)\\SAM Ratings\\G3.pdf\n",
      "ThesisFolder\\GAMEEMO_SAM\n",
      "Dataset\\GAMEEMO\\(S01)\\SAM Ratings\\G4.pdf\n",
      "ThesisFolder\\GAMEEMO_SAM\n",
      "(S02)\n",
      "Dataset\\GAMEEMO\\(S02)\\SAM Ratings\n"
     ]
    },
    {
     "name": "stderr",
     "output_type": "stream",
     "text": [
      "100%|██████████████████████████████████████████████████████████████████████████████████| 4/4 [00:00<00:00, 1002.76it/s]\n"
     ]
    },
    {
     "name": "stdout",
     "output_type": "stream",
     "text": [
      "Dataset\\GAMEEMO\\(S02)\\SAM Ratings\\G1.pdf\n",
      "ThesisFolder\\GAMEEMO_SAM\n",
      "Dataset\\GAMEEMO\\(S02)\\SAM Ratings\\G2.pdf\n",
      "ThesisFolder\\GAMEEMO_SAM\n",
      "Dataset\\GAMEEMO\\(S02)\\SAM Ratings\\G3.pdf\n",
      "ThesisFolder\\GAMEEMO_SAM\n",
      "Dataset\\GAMEEMO\\(S02)\\SAM Ratings\\G4.pdf\n",
      "ThesisFolder\\GAMEEMO_SAM\n",
      "(S03)\n",
      "Dataset\\GAMEEMO\\(S03)\\SAM Ratings\n"
     ]
    },
    {
     "name": "stderr",
     "output_type": "stream",
     "text": [
      "100%|██████████████████████████████████████████████████████████████████████████████████| 4/4 [00:00<00:00, 1336.08it/s]\n"
     ]
    },
    {
     "name": "stdout",
     "output_type": "stream",
     "text": [
      "Dataset\\GAMEEMO\\(S03)\\SAM Ratings\\G1.pdf\n",
      "ThesisFolder\\GAMEEMO_SAM\n",
      "Dataset\\GAMEEMO\\(S03)\\SAM Ratings\\G2.pdf\n",
      "ThesisFolder\\GAMEEMO_SAM\n",
      "Dataset\\GAMEEMO\\(S03)\\SAM Ratings\\G3.pdf\n",
      "ThesisFolder\\GAMEEMO_SAM\n",
      "Dataset\\GAMEEMO\\(S03)\\SAM Ratings\\G4.pdf\n",
      "ThesisFolder\\GAMEEMO_SAM\n",
      "(S04)\n",
      "Dataset\\GAMEEMO\\(S04)\\SAM Ratings\n"
     ]
    },
    {
     "name": "stderr",
     "output_type": "stream",
     "text": [
      "100%|███████████████████████████████████████████████████████████████████████████████████| 4/4 [00:00<00:00, 801.89it/s]\n"
     ]
    },
    {
     "name": "stdout",
     "output_type": "stream",
     "text": [
      "Dataset\\GAMEEMO\\(S04)\\SAM Ratings\\G1.pdf\n",
      "ThesisFolder\\GAMEEMO_SAM\n",
      "Dataset\\GAMEEMO\\(S04)\\SAM Ratings\\G2.pdf\n",
      "ThesisFolder\\GAMEEMO_SAM\n",
      "Dataset\\GAMEEMO\\(S04)\\SAM Ratings\\G3.pdf\n",
      "ThesisFolder\\GAMEEMO_SAM\n",
      "Dataset\\GAMEEMO\\(S04)\\SAM Ratings\\G4.pdf\n",
      "ThesisFolder\\GAMEEMO_SAM\n",
      "(S05)\n",
      "Dataset\\GAMEEMO\\(S05)\\SAM Ratings\n"
     ]
    },
    {
     "name": "stderr",
     "output_type": "stream",
     "text": [
      "100%|███████████████████████████████████████████████████████████████████████████████████| 4/4 [00:00<00:00, 998.82it/s]\n"
     ]
    },
    {
     "name": "stdout",
     "output_type": "stream",
     "text": [
      "Dataset\\GAMEEMO\\(S05)\\SAM Ratings\\G1.pdf\n",
      "ThesisFolder\\GAMEEMO_SAM\n",
      "Dataset\\GAMEEMO\\(S05)\\SAM Ratings\\G2.pdf\n",
      "ThesisFolder\\GAMEEMO_SAM\n",
      "Dataset\\GAMEEMO\\(S05)\\SAM Ratings\\G3.pdf\n",
      "ThesisFolder\\GAMEEMO_SAM\n",
      "Dataset\\GAMEEMO\\(S05)\\SAM Ratings\\G4.pdf\n",
      "ThesisFolder\\GAMEEMO_SAM\n",
      "(S06)\n",
      "Dataset\\GAMEEMO\\(S06)\\SAM Ratings\n"
     ]
    },
    {
     "name": "stderr",
     "output_type": "stream",
     "text": [
      "100%|██████████████████████████████████████████████████████████████████████████████████| 4/4 [00:00<00:00, 1002.88it/s]\n"
     ]
    },
    {
     "name": "stdout",
     "output_type": "stream",
     "text": [
      "Dataset\\GAMEEMO\\(S06)\\SAM Ratings\\G1.pdf\n",
      "ThesisFolder\\GAMEEMO_SAM\n",
      "Dataset\\GAMEEMO\\(S06)\\SAM Ratings\\G2.pdf\n",
      "ThesisFolder\\GAMEEMO_SAM\n",
      "Dataset\\GAMEEMO\\(S06)\\SAM Ratings\\G3.pdf\n",
      "ThesisFolder\\GAMEEMO_SAM\n",
      "Dataset\\GAMEEMO\\(S06)\\SAM Ratings\\G4.pdf\n",
      "ThesisFolder\\GAMEEMO_SAM\n",
      "(S07)\n",
      "Dataset\\GAMEEMO\\(S07)\\SAM Ratings\n"
     ]
    },
    {
     "name": "stderr",
     "output_type": "stream",
     "text": [
      "100%|██████████████████████████████████████████████████████████████████████████████████| 4/4 [00:00<00:00, 1001.39it/s]\n"
     ]
    },
    {
     "name": "stdout",
     "output_type": "stream",
     "text": [
      "Dataset\\GAMEEMO\\(S07)\\SAM Ratings\\G1.pdf\n",
      "ThesisFolder\\GAMEEMO_SAM\n",
      "Dataset\\GAMEEMO\\(S07)\\SAM Ratings\\G2.pdf\n",
      "ThesisFolder\\GAMEEMO_SAM\n",
      "Dataset\\GAMEEMO\\(S07)\\SAM Ratings\\G3.pdf\n",
      "ThesisFolder\\GAMEEMO_SAM\n",
      "Dataset\\GAMEEMO\\(S07)\\SAM Ratings\\G4.pdf\n",
      "ThesisFolder\\GAMEEMO_SAM\n",
      "(S08)\n",
      "Dataset\\GAMEEMO\\(S08)\\SAM Ratings\n"
     ]
    },
    {
     "name": "stderr",
     "output_type": "stream",
     "text": [
      "100%|██████████████████████████████████████████████████████████████████████████████████| 4/4 [00:00<00:00, 1002.46it/s]\n"
     ]
    },
    {
     "name": "stdout",
     "output_type": "stream",
     "text": [
      "Dataset\\GAMEEMO\\(S08)\\SAM Ratings\\G1.pdf\n",
      "ThesisFolder\\GAMEEMO_SAM\n",
      "Dataset\\GAMEEMO\\(S08)\\SAM Ratings\\G2.pdf\n",
      "ThesisFolder\\GAMEEMO_SAM\n",
      "Dataset\\GAMEEMO\\(S08)\\SAM Ratings\\G3.pdf\n",
      "ThesisFolder\\GAMEEMO_SAM\n",
      "Dataset\\GAMEEMO\\(S08)\\SAM Ratings\\G4.pdf\n",
      "ThesisFolder\\GAMEEMO_SAM\n",
      "(S09)\n",
      "Dataset\\GAMEEMO\\(S09)\\SAM Ratings\n"
     ]
    },
    {
     "name": "stderr",
     "output_type": "stream",
     "text": [
      "  0%|                                                                                            | 0/4 [00:00<?, ?it/s]"
     ]
    },
    {
     "name": "stdout",
     "output_type": "stream",
     "text": [
      "Dataset\\GAMEEMO\\(S09)\\SAM Ratings\\G1.pdf\n",
      "ThesisFolder\\GAMEEMO_SAM\n",
      "Dataset\\GAMEEMO\\(S09)\\SAM Ratings\\G2.pdf\n",
      "ThesisFolder\\GAMEEMO_SAM\n",
      "Dataset\\GAMEEMO\\(S09)\\SAM Ratings\\G3.pdf\n",
      "ThesisFolder\\GAMEEMO_SAM\n",
      "Dataset\\GAMEEMO\\(S09)\\SAM Ratings\\G4.pdf\n",
      "ThesisFolder\\GAMEEMO_SAM\n"
     ]
    },
    {
     "name": "stderr",
     "output_type": "stream",
     "text": [
      "100%|████████████████████████████████████████████████████████████████████████████████████| 4/4 [00:00<00:00, 22.46it/s]\n"
     ]
    },
    {
     "name": "stdout",
     "output_type": "stream",
     "text": [
      "(S10)\n",
      "Dataset\\GAMEEMO\\(S10)\\SAM Ratings\n"
     ]
    },
    {
     "name": "stderr",
     "output_type": "stream",
     "text": [
      "100%|███████████████████████████████████████████████████████████████████████████████████| 4/4 [00:00<00:00, 291.03it/s]\n"
     ]
    },
    {
     "name": "stdout",
     "output_type": "stream",
     "text": [
      "Dataset\\GAMEEMO\\(S10)\\SAM Ratings\\G1.pdf\n",
      "ThesisFolder\\GAMEEMO_SAM\n",
      "Dataset\\GAMEEMO\\(S10)\\SAM Ratings\\G2.pdf\n",
      "ThesisFolder\\GAMEEMO_SAM\n",
      "Dataset\\GAMEEMO\\(S10)\\SAM Ratings\\G3.pdf\n",
      "ThesisFolder\\GAMEEMO_SAM\n",
      "Dataset\\GAMEEMO\\(S10)\\SAM Ratings\\G4.pdf\n",
      "ThesisFolder\\GAMEEMO_SAM\n",
      "(S11)\n",
      "Dataset\\GAMEEMO\\(S11)\\SAM Ratings\n"
     ]
    },
    {
     "name": "stderr",
     "output_type": "stream",
     "text": [
      "100%|███████████████████████████████████████████████████████████████████████████████████| 4/4 [00:00<00:00, 491.40it/s]\n"
     ]
    },
    {
     "name": "stdout",
     "output_type": "stream",
     "text": [
      "Dataset\\GAMEEMO\\(S11)\\SAM Ratings\\G1.pdf\n",
      "ThesisFolder\\GAMEEMO_SAM\n",
      "Dataset\\GAMEEMO\\(S11)\\SAM Ratings\\G2.pdf\n",
      "ThesisFolder\\GAMEEMO_SAM\n",
      "Dataset\\GAMEEMO\\(S11)\\SAM Ratings\\G3.pdf\n",
      "ThesisFolder\\GAMEEMO_SAM\n",
      "Dataset\\GAMEEMO\\(S11)\\SAM Ratings\\G4.pdf\n",
      "ThesisFolder\\GAMEEMO_SAM\n",
      "(S12)\n",
      "Dataset\\GAMEEMO\\(S12)\\SAM Ratings\n"
     ]
    },
    {
     "name": "stderr",
     "output_type": "stream",
     "text": [
      "100%|███████████████████████████████████████████████████████████████████████████████████| 4/4 [00:00<00:00, 668.97it/s]\n"
     ]
    },
    {
     "name": "stdout",
     "output_type": "stream",
     "text": [
      "Dataset\\GAMEEMO\\(S12)\\SAM Ratings\\G1.pdf\n",
      "ThesisFolder\\GAMEEMO_SAM\n",
      "Dataset\\GAMEEMO\\(S12)\\SAM Ratings\\G2.pdf\n",
      "ThesisFolder\\GAMEEMO_SAM\n",
      "Dataset\\GAMEEMO\\(S12)\\SAM Ratings\\G3.pdf\n",
      "ThesisFolder\\GAMEEMO_SAM\n",
      "Dataset\\GAMEEMO\\(S12)\\SAM Ratings\\G4.pdf\n",
      "ThesisFolder\\GAMEEMO_SAM\n",
      "(S13)\n",
      "Dataset\\GAMEEMO\\(S13)\\SAM Ratings\n"
     ]
    },
    {
     "name": "stderr",
     "output_type": "stream",
     "text": [
      "100%|██████████████████████████████████████████████████████████████████████████████████| 4/4 [00:00<00:00, 1002.52it/s]\n"
     ]
    },
    {
     "name": "stdout",
     "output_type": "stream",
     "text": [
      "Dataset\\GAMEEMO\\(S13)\\SAM Ratings\\G1.pdf\n",
      "ThesisFolder\\GAMEEMO_SAM\n",
      "Dataset\\GAMEEMO\\(S13)\\SAM Ratings\\G2.pdf\n",
      "ThesisFolder\\GAMEEMO_SAM\n",
      "Dataset\\GAMEEMO\\(S13)\\SAM Ratings\\G3.pdf\n",
      "ThesisFolder\\GAMEEMO_SAM\n",
      "Dataset\\GAMEEMO\\(S13)\\SAM Ratings\\G4.pdf\n",
      "ThesisFolder\\GAMEEMO_SAM\n",
      "(S14)\n",
      "Dataset\\GAMEEMO\\(S14)\\SAM Ratings\n"
     ]
    },
    {
     "name": "stderr",
     "output_type": "stream",
     "text": [
      "100%|███████████████████████████████████████████████████████████████████████████████████| 4/4 [00:00<00:00, 801.59it/s]\n"
     ]
    },
    {
     "name": "stdout",
     "output_type": "stream",
     "text": [
      "Dataset\\GAMEEMO\\(S14)\\SAM Ratings\\G1.pdf\n",
      "ThesisFolder\\GAMEEMO_SAM\n",
      "Dataset\\GAMEEMO\\(S14)\\SAM Ratings\\G2.pdf\n",
      "ThesisFolder\\GAMEEMO_SAM\n",
      "Dataset\\GAMEEMO\\(S14)\\SAM Ratings\\G3.pdf\n",
      "ThesisFolder\\GAMEEMO_SAM\n",
      "Dataset\\GAMEEMO\\(S14)\\SAM Ratings\\G4.pdf\n",
      "ThesisFolder\\GAMEEMO_SAM\n",
      "(S15)\n",
      "Dataset\\GAMEEMO\\(S15)\\SAM Ratings\n"
     ]
    },
    {
     "name": "stderr",
     "output_type": "stream",
     "text": [
      "100%|██████████████████████████████████████████████████████████████████████████████████| 4/4 [00:00<00:00, 1002.82it/s]\n"
     ]
    },
    {
     "name": "stdout",
     "output_type": "stream",
     "text": [
      "Dataset\\GAMEEMO\\(S15)\\SAM Ratings\\G1.pdf\n",
      "ThesisFolder\\GAMEEMO_SAM\n",
      "Dataset\\GAMEEMO\\(S15)\\SAM Ratings\\G2.pdf\n",
      "ThesisFolder\\GAMEEMO_SAM\n",
      "Dataset\\GAMEEMO\\(S15)\\SAM Ratings\\G3.pdf\n",
      "ThesisFolder\\GAMEEMO_SAM\n",
      "Dataset\\GAMEEMO\\(S15)\\SAM Ratings\\G4.pdf\n",
      "ThesisFolder\\GAMEEMO_SAM\n",
      "(S16)\n",
      "Dataset\\GAMEEMO\\(S16)\\SAM Ratings\n"
     ]
    },
    {
     "name": "stderr",
     "output_type": "stream",
     "text": [
      "100%|███████████████████████████████████████████████████████████████████████████████████| 4/4 [00:00<00:00, 804.08it/s]\n"
     ]
    },
    {
     "name": "stdout",
     "output_type": "stream",
     "text": [
      "Dataset\\GAMEEMO\\(S16)\\SAM Ratings\\G1.pdf\n",
      "ThesisFolder\\GAMEEMO_SAM\n",
      "Dataset\\GAMEEMO\\(S16)\\SAM Ratings\\G2.pdf\n",
      "ThesisFolder\\GAMEEMO_SAM\n",
      "Dataset\\GAMEEMO\\(S16)\\SAM Ratings\\G3.pdf\n",
      "ThesisFolder\\GAMEEMO_SAM\n",
      "Dataset\\GAMEEMO\\(S16)\\SAM Ratings\\G4.pdf\n",
      "ThesisFolder\\GAMEEMO_SAM\n",
      "(S17)\n",
      "Dataset\\GAMEEMO\\(S17)\\SAM Ratings\n"
     ]
    },
    {
     "name": "stderr",
     "output_type": "stream",
     "text": [
      "100%|██████████████████████████████████████████████████████████████████████████████████| 4/4 [00:00<00:00, 1003.00it/s]\n"
     ]
    },
    {
     "name": "stdout",
     "output_type": "stream",
     "text": [
      "Dataset\\GAMEEMO\\(S17)\\SAM Ratings\\G1.pdf\n",
      "ThesisFolder\\GAMEEMO_SAM\n",
      "Dataset\\GAMEEMO\\(S17)\\SAM Ratings\\G2.pdf\n",
      "ThesisFolder\\GAMEEMO_SAM\n",
      "Dataset\\GAMEEMO\\(S17)\\SAM Ratings\\G3.pdf\n",
      "ThesisFolder\\GAMEEMO_SAM\n",
      "Dataset\\GAMEEMO\\(S17)\\SAM Ratings\\G4.pdf\n",
      "ThesisFolder\\GAMEEMO_SAM\n",
      "(S18)\n",
      "Dataset\\GAMEEMO\\(S18)\\SAM Ratings\n"
     ]
    },
    {
     "name": "stderr",
     "output_type": "stream",
     "text": [
      "100%|███████████████████████████████████████████████████████████████████████████████████| 4/4 [00:00<00:00, 996.33it/s]\n"
     ]
    },
    {
     "name": "stdout",
     "output_type": "stream",
     "text": [
      "Dataset\\GAMEEMO\\(S18)\\SAM Ratings\\G1.pdf\n",
      "ThesisFolder\\GAMEEMO_SAM\n",
      "Dataset\\GAMEEMO\\(S18)\\SAM Ratings\\G2.pdf\n",
      "ThesisFolder\\GAMEEMO_SAM\n",
      "Dataset\\GAMEEMO\\(S18)\\SAM Ratings\\G3.pdf\n",
      "ThesisFolder\\GAMEEMO_SAM\n",
      "Dataset\\GAMEEMO\\(S18)\\SAM Ratings\\G4.pdf\n",
      "ThesisFolder\\GAMEEMO_SAM\n",
      "(S19)\n",
      "Dataset\\GAMEEMO\\(S19)\\SAM Ratings\n"
     ]
    },
    {
     "name": "stderr",
     "output_type": "stream",
     "text": [
      "100%|██████████████████████████████████████████████████████████████████████████████████| 4/4 [00:00<00:00, 1002.22it/s]\n"
     ]
    },
    {
     "name": "stdout",
     "output_type": "stream",
     "text": [
      "Dataset\\GAMEEMO\\(S19)\\SAM Ratings\\G1.pdf\n",
      "ThesisFolder\\GAMEEMO_SAM\n",
      "Dataset\\GAMEEMO\\(S19)\\SAM Ratings\\G2.pdf\n",
      "ThesisFolder\\GAMEEMO_SAM\n",
      "Dataset\\GAMEEMO\\(S19)\\SAM Ratings\\G3.pdf\n",
      "ThesisFolder\\GAMEEMO_SAM\n",
      "Dataset\\GAMEEMO\\(S19)\\SAM Ratings\\G4.pdf\n",
      "ThesisFolder\\GAMEEMO_SAM\n",
      "(S20)\n",
      "Dataset\\GAMEEMO\\(S20)\\SAM Ratings\n"
     ]
    },
    {
     "name": "stderr",
     "output_type": "stream",
     "text": [
      "100%|██████████████████████████████████████████████████████████████████████████████████| 4/4 [00:00<00:00, 1003.00it/s]\n"
     ]
    },
    {
     "name": "stdout",
     "output_type": "stream",
     "text": [
      "Dataset\\GAMEEMO\\(S20)\\SAM Ratings\\G1.pdf\n",
      "ThesisFolder\\GAMEEMO_SAM\n",
      "Dataset\\GAMEEMO\\(S20)\\SAM Ratings\\G2.pdf\n",
      "ThesisFolder\\GAMEEMO_SAM\n",
      "Dataset\\GAMEEMO\\(S20)\\SAM Ratings\\G3.pdf\n",
      "ThesisFolder\\GAMEEMO_SAM\n",
      "Dataset\\GAMEEMO\\(S20)\\SAM Ratings\\G4.pdf\n",
      "ThesisFolder\\GAMEEMO_SAM\n",
      "(S21)\n",
      "Dataset\\GAMEEMO\\(S21)\\SAM Ratings\n"
     ]
    },
    {
     "name": "stderr",
     "output_type": "stream",
     "text": [
      "100%|██████████████████████████████████████████████████████████████████████████████████| 4/4 [00:00<00:00, 1003.00it/s]\n"
     ]
    },
    {
     "name": "stdout",
     "output_type": "stream",
     "text": [
      "Dataset\\GAMEEMO\\(S21)\\SAM Ratings\\G1.pdf\n",
      "ThesisFolder\\GAMEEMO_SAM\n",
      "Dataset\\GAMEEMO\\(S21)\\SAM Ratings\\G2.pdf\n",
      "ThesisFolder\\GAMEEMO_SAM\n",
      "Dataset\\GAMEEMO\\(S21)\\SAM Ratings\\G3.pdf\n",
      "ThesisFolder\\GAMEEMO_SAM\n",
      "Dataset\\GAMEEMO\\(S21)\\SAM Ratings\\G4.pdf\n",
      "ThesisFolder\\GAMEEMO_SAM\n",
      "(S22)\n",
      "Dataset\\GAMEEMO\\(S22)\\SAM Ratings\n"
     ]
    },
    {
     "name": "stderr",
     "output_type": "stream",
     "text": [
      "100%|██████████████████████████████████████████████████████████████████████████████████| 4/4 [00:00<00:00, 1003.30it/s]\n"
     ]
    },
    {
     "name": "stdout",
     "output_type": "stream",
     "text": [
      "Dataset\\GAMEEMO\\(S22)\\SAM Ratings\\G1.pdf\n",
      "ThesisFolder\\GAMEEMO_SAM\n",
      "Dataset\\GAMEEMO\\(S22)\\SAM Ratings\\G2.pdf\n",
      "ThesisFolder\\GAMEEMO_SAM\n",
      "Dataset\\GAMEEMO\\(S22)\\SAM Ratings\\G3.pdf\n",
      "ThesisFolder\\GAMEEMO_SAM\n",
      "Dataset\\GAMEEMO\\(S22)\\SAM Ratings\\G4.pdf\n",
      "ThesisFolder\\GAMEEMO_SAM\n",
      "(S23)\n",
      "Dataset\\GAMEEMO\\(S23)\\SAM Ratings\n"
     ]
    },
    {
     "name": "stderr",
     "output_type": "stream",
     "text": [
      "100%|██████████████████████████████████████████████████████████████████████████████████| 4/4 [00:00<00:00, 1002.58it/s]\n"
     ]
    },
    {
     "name": "stdout",
     "output_type": "stream",
     "text": [
      "Dataset\\GAMEEMO\\(S23)\\SAM Ratings\\G1.pdf\n",
      "ThesisFolder\\GAMEEMO_SAM\n",
      "Dataset\\GAMEEMO\\(S23)\\SAM Ratings\\G2.pdf\n",
      "ThesisFolder\\GAMEEMO_SAM\n",
      "Dataset\\GAMEEMO\\(S23)\\SAM Ratings\\G3.pdf\n",
      "ThesisFolder\\GAMEEMO_SAM\n",
      "Dataset\\GAMEEMO\\(S23)\\SAM Ratings\\G4.pdf\n",
      "ThesisFolder\\GAMEEMO_SAM\n",
      "(S24)\n",
      "Dataset\\GAMEEMO\\(S24)\\SAM Ratings\n"
     ]
    },
    {
     "name": "stderr",
     "output_type": "stream",
     "text": [
      "100%|███████████████████████████████████████████████████████████████████████████████████| 4/4 [00:00<00:00, 801.74it/s]\n"
     ]
    },
    {
     "name": "stdout",
     "output_type": "stream",
     "text": [
      "Dataset\\GAMEEMO\\(S24)\\SAM Ratings\\G1.pdf\n",
      "ThesisFolder\\GAMEEMO_SAM\n",
      "Dataset\\GAMEEMO\\(S24)\\SAM Ratings\\G2.pdf\n",
      "ThesisFolder\\GAMEEMO_SAM\n",
      "Dataset\\GAMEEMO\\(S24)\\SAM Ratings\\G3.pdf\n",
      "ThesisFolder\\GAMEEMO_SAM\n",
      "Dataset\\GAMEEMO\\(S24)\\SAM Ratings\\G4.pdf\n",
      "ThesisFolder\\GAMEEMO_SAM\n",
      "(S25)\n",
      "Dataset\\GAMEEMO\\(S25)\\SAM Ratings\n"
     ]
    },
    {
     "name": "stderr",
     "output_type": "stream",
     "text": [
      "100%|██████████████████████████████████████████████████████████████████████████████████| 4/4 [00:00<00:00, 1336.30it/s]\n"
     ]
    },
    {
     "name": "stdout",
     "output_type": "stream",
     "text": [
      "Dataset\\GAMEEMO\\(S25)\\SAM Ratings\\G1.pdf\n",
      "ThesisFolder\\GAMEEMO_SAM\n",
      "Dataset\\GAMEEMO\\(S25)\\SAM Ratings\\G2.pdf\n",
      "ThesisFolder\\GAMEEMO_SAM\n",
      "Dataset\\GAMEEMO\\(S25)\\SAM Ratings\\G3.pdf\n",
      "ThesisFolder\\GAMEEMO_SAM\n",
      "Dataset\\GAMEEMO\\(S25)\\SAM Ratings\\G4.pdf\n",
      "ThesisFolder\\GAMEEMO_SAM\n",
      "(S26)\n",
      "Dataset\\GAMEEMO\\(S26)\\SAM Ratings\n"
     ]
    },
    {
     "name": "stderr",
     "output_type": "stream",
     "text": [
      "100%|██████████████████████████████████████████████████████████████████████████████████| 4/4 [00:00<00:00, 1002.10it/s]\n"
     ]
    },
    {
     "name": "stdout",
     "output_type": "stream",
     "text": [
      "Dataset\\GAMEEMO\\(S26)\\SAM Ratings\\G1.pdf\n",
      "ThesisFolder\\GAMEEMO_SAM\n",
      "Dataset\\GAMEEMO\\(S26)\\SAM Ratings\\G2.pdf\n",
      "ThesisFolder\\GAMEEMO_SAM\n",
      "Dataset\\GAMEEMO\\(S26)\\SAM Ratings\\G3.pdf\n",
      "ThesisFolder\\GAMEEMO_SAM\n",
      "Dataset\\GAMEEMO\\(S26)\\SAM Ratings\\G4.pdf\n",
      "ThesisFolder\\GAMEEMO_SAM\n",
      "(S27)\n",
      "Dataset\\GAMEEMO\\(S27)\\SAM Ratings\n"
     ]
    },
    {
     "name": "stderr",
     "output_type": "stream",
     "text": [
      "100%|███████████████████████████████████████████████████████████████████████████████████| 4/4 [00:00<00:00, 802.24it/s]\n"
     ]
    },
    {
     "name": "stdout",
     "output_type": "stream",
     "text": [
      "Dataset\\GAMEEMO\\(S27)\\SAM Ratings\\G1.pdf\n",
      "ThesisFolder\\GAMEEMO_SAM\n",
      "Dataset\\GAMEEMO\\(S27)\\SAM Ratings\\G2.pdf\n",
      "ThesisFolder\\GAMEEMO_SAM\n",
      "Dataset\\GAMEEMO\\(S27)\\SAM Ratings\\G3.pdf\n",
      "ThesisFolder\\GAMEEMO_SAM\n",
      "Dataset\\GAMEEMO\\(S27)\\SAM Ratings\\G4.pdf\n",
      "ThesisFolder\\GAMEEMO_SAM\n",
      "(S28)\n",
      "Dataset\\GAMEEMO\\(S28)\\SAM Ratings\n"
     ]
    },
    {
     "name": "stderr",
     "output_type": "stream",
     "text": [
      "100%|██████████████████████████████████████████████████████████████████████████████████| 4/4 [00:00<00:00, 1002.40it/s]"
     ]
    },
    {
     "name": "stdout",
     "output_type": "stream",
     "text": [
      "Dataset\\GAMEEMO\\(S28)\\SAM Ratings\\G1.pdf\n",
      "ThesisFolder\\GAMEEMO_SAM\n",
      "Dataset\\GAMEEMO\\(S28)\\SAM Ratings\\G2.pdf\n",
      "ThesisFolder\\GAMEEMO_SAM\n",
      "Dataset\\GAMEEMO\\(S28)\\SAM Ratings\\G3.pdf\n",
      "ThesisFolder\\GAMEEMO_SAM\n",
      "Dataset\\GAMEEMO\\(S28)\\SAM Ratings\\G4.pdf\n",
      "ThesisFolder\\GAMEEMO_SAM\n"
     ]
    },
    {
     "name": "stderr",
     "output_type": "stream",
     "text": [
      "\n"
     ]
    }
   ],
   "source": [
    "for subject in subjectFolders:\n",
    "    print(subject)\n",
    "    subjectData = os.path.join(sourceFolder, subject)\n",
    "    SAMData = os.path.join(subjectData, os.listdir(subjectData)[2])\n",
    "    print(SAMData)\n",
    "    for files in tqdm(os.listdir(SAMData)):\n",
    "        subject = subject.translate(str.maketrans('', '', '(){}[]'))\n",
    "        sourceFile = os.path.join(SAMData, files)\n",
    "        destinationPath = destinationSAM\n",
    "\n",
    "        print(sourceFile)\n",
    "        print(destinationPath)\n",
    "        move_file_2(sourceFile, subject, destinationPath)"
   ]
  },
  {
   "cell_type": "markdown",
   "id": "0a6b69a3-0c3d-4606-bff8-18913ac309f1",
   "metadata": {},
   "source": [
    "# Some Bloody PDFs "
   ]
  },
  {
   "cell_type": "code",
   "execution_count": 93,
   "id": "1b01231a-13b5-42c9-a581-348a2efb1f14",
   "metadata": {},
   "outputs": [
    {
     "name": "stdout",
     "output_type": "stream",
     "text": [
      "(112,)\n",
      "ThesisFolder\\GAMEEMO_SAM\\SAMS03G4.pdf\n"
     ]
    },
    {
     "data": {
      "text/html": [
       "\n",
       "        <iframe\n",
       "            width=\"800\"\n",
       "            height=\"600\"\n",
       "            src=\"ThesisFolder\\GAMEEMO_SAM\\SAMS03G4.pdf\"\n",
       "            frameborder=\"0\"\n",
       "            allowfullscreen\n",
       "            \n",
       "        ></iframe>\n",
       "        "
      ],
      "text/plain": [
       "<IPython.lib.display.IFrame at 0x1b9d8af2b00>"
      ]
     },
     "execution_count": 93,
     "metadata": {},
     "output_type": "execute_result"
    }
   ],
   "source": [
    "from IPython.display import IFrame\n",
    "import numpy as np\n",
    "\n",
    "i =11\n",
    "pdfDir = np.array(os.listdir(destinationSAM))\n",
    "print(pdfDir.shape)\n",
    "pdfFile = os.path.join(destinationSAM, pdfDir[i])\n",
    "print(pdfFile)\n",
    "IFrame(pdfFile, width=800, height=600)\n"
   ]
  }
 ],
 "metadata": {
  "kernelspec": {
   "display_name": "py310",
   "language": "python",
   "name": "py310"
  },
  "language_info": {
   "codemirror_mode": {
    "name": "ipython",
    "version": 3
   },
   "file_extension": ".py",
   "mimetype": "text/x-python",
   "name": "python",
   "nbconvert_exporter": "python",
   "pygments_lexer": "ipython3",
   "version": "3.10.14"
  }
 },
 "nbformat": 4,
 "nbformat_minor": 5
}

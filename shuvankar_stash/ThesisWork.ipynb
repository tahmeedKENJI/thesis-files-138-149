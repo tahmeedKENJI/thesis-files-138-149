{
 "cells": [
  {
   "cell_type": "markdown",
   "id": "ea6cae7d-d8e7-4016-ae5a-9faba35d4193",
   "metadata": {},
   "source": [
    "# Dependencies"
   ]
  },
  {
   "cell_type": "code",
   "execution_count": 1,
   "id": "2f73ae32-177a-4ab0-b330-e2aa524dfe69",
   "metadata": {},
   "outputs": [],
   "source": [
    "import os\n",
    "import mne\n",
    "import pandas as pd\n",
    "import numpy as np\n",
    "from tqdm import tqdm\n",
    "import matplotlib.pyplot as plt\n",
    "%matplotlib qt\n",
    "import logging\n",
    "import warnings\n",
    "\n",
    "warnings.filterwarnings(\"ignore\")\n",
    "logging.getLogger('mne').setLevel(logging.WARNING)"
   ]
  },
  {
   "cell_type": "markdown",
   "id": "3a2226a8-11d6-49a0-b34b-94ef5d281568",
   "metadata": {},
   "source": [
    "# Directories and filepaths"
   ]
  },
  {
   "cell_type": "code",
   "execution_count": 2,
   "id": "105e4165-80d9-41c2-b94c-af962fee48f5",
   "metadata": {},
   "outputs": [],
   "source": [
    "main_folder = \"ThesisFolder\"\n",
    "\n",
    "data_folder_py = os.path.join(main_folder, \"GAMEEMO_PY\")\n",
    "data_folder_mat = os.path.join(main_folder,\"GAMEEMO_MAT\")\n",
    "data_folder_fif = os.path.join(main_folder,\"GAMEEMO_FIF\")\n",
    "data_folder_epoch = os.path.join(main_folder,\"GAMEEMO_EPOCH\")\n",
    "\n",
    "files_py = os.listdir(data_folder_py)\n",
    "files_mat = os.listdir(data_folder_mat)\n",
    "files_fif = os.listdir(data_folder_fif)"
   ]
  },
  {
   "cell_type": "markdown",
   "id": "45b63a3e-ca23-4c3d-91e8-df13fc0469e6",
   "metadata": {
    "jp-MarkdownHeadingCollapsed": true
   },
   "source": [
    "# Read Data files (fif) and chop into epochs"
   ]
  },
  {
   "cell_type": "raw",
   "id": "0246045b-36cb-4a6f-95cd-7e56f8fe42e2",
   "metadata": {},
   "source": [
    "# Sample code\n",
    "filename = os.path.join(data_folder_fif, files_fif[0])\n",
    "raw = mne.io.read_raw_fif(filename, preload=True)\n",
    "raw.filter(6, 42)\n",
    "\n",
    "raw_data = raw.get_data() * 1e6\n",
    "raw_data = raw_data[:, 0:-1]\n",
    "alpha_multiplier = 2\n",
    "alpha = alpha_multiplier / np.max(raw_data)#0.3 #smoothing parameter, arbitrarily set from observation\n",
    "threshold = 37.0 #set from filtered maximum value\n",
    "raw_data_limit = raw_data / (1 + (alpha * np.maximum(0, np.abs(raw_data) - threshold)))\n",
    "data_length = raw_data_limit.shape[1]\n",
    "\n",
    "print(np.min(raw_data), np.max(raw_data))\n",
    "print(np.min(raw_data_limit), np.max(raw_data_limit))\n",
    "\n",
    "info = raw.info\n",
    "raw = mne.io.RawArray(raw_data_limit, info)\n",
    "duration = [5, 10, 15, 20]\n",
    "duration_idx = 0\n",
    "epochs = mne.make_fixed_length_epochs(raw, duration=duration[duration_idx], \n",
    "                                      overlap=np.floor(duration[duration_idx]/1.5), preload=True)\n",
    "# epochs.plot(scalings=50)"
   ]
  },
  {
   "cell_type": "raw",
   "id": "5025f5fe-070c-4ee8-beb2-b9e2fa5e79e0",
   "metadata": {},
   "source": [
    "# Sample code\n",
    "epochs.plot_sensors(kind='3d', show_names=True)\n",
    "plt.show()"
   ]
  },
  {
   "cell_type": "raw",
   "id": "df21dab4-03b0-485c-901a-b485e021edde",
   "metadata": {},
   "source": [
    "# Sample code\n",
    "offset = 0\n",
    "for i in np.arange(raw_data.shape[0]-offset):\n",
    "    plt.subplot(raw_data.shape[0]-offset, 1, i+1)\n",
    "    plt.plot(raw_data[i, 0:-1])\n",
    "    plt.plot(raw_data_limit[i, 0:-1])"
   ]
  },
  {
   "cell_type": "raw",
   "id": "c7df49f8-b274-4903-8496-b53202f671a3",
   "metadata": {},
   "source": [
    "# duration = [5, 10, 15, 20]\n",
    "# duration_idx = 3\n",
    "\n",
    "# alpha = 0.3 #smoothing parameter, arbitrarily set from observation\n",
    "# threshold = 30.0 #set from filtered maximum value"
   ]
  },
  {
   "cell_type": "raw",
   "id": "eb80fcac-0693-4730-80d0-bbc2bfc7c42f",
   "metadata": {},
   "source": [
    "epochs_array = []\n",
    "\n",
    "for file in tqdm(files_fif):\n",
    "    filename = os.path.join(data_folder_fif, file)\n",
    "    raw = mne.io.read_raw_fif(filename, preload=True)\n",
    "    raw.filter(6, 42) \n",
    "\n",
    "    raw_data = raw.get_data() * 1e6\n",
    "    raw_data = raw_data[:, 6400:-1]\n",
    "    \n",
    "    #apply soft-limiter\n",
    "    alpha_multiplier = 2\n",
    "    alpha = alpha_multiplier / np.max(raw_data)\n",
    "    threshold = 35.0\n",
    "    raw_data = raw_data / (1 + (alpha * np.maximum(0, np.abs(raw_data) - threshold)))\n",
    "\n",
    "    info = raw.info\n",
    "    raw = mne.io.RawArray(raw_data, info)\n",
    "    epochs = mne.make_fixed_length_epochs(raw, duration=duration[duration_idx], \n",
    "                                          overlap=np.floor(duration[duration_idx]/1.5), preload=True)\n",
    "    epoch_save_folder = os.path.join(data_folder_epoch, str(duration[duration_idx]) + 'sec')\n",
    "    os.makedirs(epoch_save_folder, exist_ok=True)\n",
    "    epoch_name = file[0:5] + \"epoch-epo.fif\"\n",
    "    \n",
    "    epochs.save(os.path.join(epoch_save_folder, epoch_name), overwrite=True)"
   ]
  },
  {
   "cell_type": "markdown",
   "id": "44b09301-953b-4049-becd-a663f89cabae",
   "metadata": {},
   "source": [
    "# Read epoch files"
   ]
  },
  {
   "cell_type": "raw",
   "id": "323ef1d0-a7db-48cc-afd8-56066c835c5d",
   "metadata": {},
   "source": [
    "Data values are already in correct range. For referrence check the hidden cells under the above heading "
   ]
  },
  {
   "cell_type": "code",
   "execution_count": 3,
   "id": "a4accd91-d269-4801-a983-8a6c2edaf52e",
   "metadata": {},
   "outputs": [
    {
     "name": "stderr",
     "output_type": "stream",
     "text": [
      "100%|████████████████████████████████████████████████████████████████████████████████| 112/112 [00:02<00:00, 43.97it/s]\n"
     ]
    }
   ],
   "source": [
    "duration = [5, 10, 15, 20]\n",
    "duration_idx = 0\n",
    "\n",
    "epoch_list = []\n",
    "# data_folder_epoch = os.path.join(main_folder,\"GAMEEMO_EPOCH\")\n",
    "data_subfolder_epoch = os.path.join(data_folder_epoch, str(duration[duration_idx])+\"sec\")\n",
    "for epoch_file in tqdm(os.listdir(data_subfolder_epoch)):\n",
    "    epoch_filename = os.path.join(data_subfolder_epoch, epoch_file)\n",
    "    epochs = mne.read_epochs(epoch_filename, preload=True)\n",
    "    epoch_data = epochs.get_data()\n",
    "    epoch_list.append(epoch_data)\n",
    "\n",
    "epoch_list = np.array(epoch_list)"
   ]
  },
  {
   "cell_type": "code",
   "execution_count": 4,
   "id": "3d16aa84-f855-467d-8422-4a0f8304ff77",
   "metadata": {},
   "outputs": [
    {
     "name": "stdout",
     "output_type": "stream",
     "text": [
      "subject count: 112 \n",
      "epoch count: 122 \n",
      "channel count: 14 \n",
      "samples count: 640 \n",
      "\n"
     ]
    }
   ],
   "source": [
    "print(\"subject count: \" + str(epoch_list.shape[0]), \"\\n\"\n",
    "     \"epoch count: \" + str(epoch_list.shape[1]), \"\\n\"\n",
    "     \"channel count: \" + str(epoch_list.shape[2]), \"\\n\"\n",
    "     \"samples count: \" + str(epoch_list.shape[3]), \"\\n\")"
   ]
  },
  {
   "cell_type": "code",
   "execution_count": null,
   "id": "80ebc9e1-8252-4a21-a160-0d3564d053ba",
   "metadata": {},
   "outputs": [],
   "source": []
  }
 ],
 "metadata": {
  "kernelspec": {
   "display_name": "py310_1",
   "language": "python",
   "name": "py310_1"
  },
  "language_info": {
   "codemirror_mode": {
    "name": "ipython",
    "version": 3
   },
   "file_extension": ".py",
   "mimetype": "text/x-python",
   "name": "python",
   "nbconvert_exporter": "python",
   "pygments_lexer": "ipython3",
   "version": "3.10.14"
  }
 },
 "nbformat": 4,
 "nbformat_minor": 5
}
